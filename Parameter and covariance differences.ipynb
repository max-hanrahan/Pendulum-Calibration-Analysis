{
 "cells": [
  {
   "cell_type": "code",
   "execution_count": 3,
   "id": "928a0ac9",
   "metadata": {},
   "outputs": [],
   "source": [
    "import numpy as np\n",
    "\n",
    "gaitan_gyro_param = [ 6.87299848e-03,  5.14536772e+00,  5.83237794e+03,  7.06993405e+02,-5.53416296e+00]\n",
    "\n",
    "gaitan_gyro_cov = [[ 1.47581955e-08, -6.01544422e-10,  5.01280449e-04,  3.97425605e-05,-4.57210138e-05],\n",
    "[-6.01544422e-10,  1.46127192e-08, -9.81618495e-05,  4.94588658e-04,  -5.47488446e-05],\n",
    "[ 5.01280449e-04, -9.81618495e-05,  2.35010007e+01, -1.37585331e+00,  -8.48859951e-01],\n",
    "[ 3.97425605e-05,  4.94588658e-04, -1.37585331e+00,  2.29820821e+01,  -2.42863247e+00],\n",
    "[-4.57210138e-05, -5.47488446e-05, -8.48859951e-01, -2.42863247e+00,   7.39528884e+01]]\n",
    "\n",
    "max_gyro_param = [0.006872998480437304 ,\n",
    "5.145367721507012 ,\n",
    "5832.377941625975 ,\n",
    "706.9934039652969 ,\n",
    "-5.5341813394689305]\n",
    "\n",
    "max_gyro_cov = [[ 1.47581960e-08,-6.01544392e-10, 5.01280464e-04, 3.97425638e-05,-4.57207555e-05],\n",
    "[-6.01544392e-10, 1.46127185e-08,-9.81618455e-05 ,4.94588633e-04,-5.47476850e-05],\n",
    "[5.01280464e-04, -9.81618455e-05, 2.35010011e+01,-1.37585315e+00,-8.48861270e-01],\n",
    "[3.97425638e-05,4.94588633e-04,-1.37585315e+00,2.29820812e+01,-2.42858703e+00],\n",
    "[-4.57207555e-05,-5.47476850e-05,-8.48861270e-01,-2.42858703e+00, 7.39509135e+01]]\n",
    "\n",
    "\n",
    "gaitan_gyro_param = np.array(gaitan_gyro_param)\n",
    "max_gyro_param = np.array(max_gyro_param)\n",
    "\n",
    "gaitan_gyro_yerr = np.sqrt(np.diag(gaitan_gyro_cov))\n",
    "max_gyro_yerr = np.sqrt(np.diag(max_gyro_cov))\n",
    "\n",
    "\n",
    "gaitan_accel_param = [ 1.06960246e+04,  1.61577205e-03, -1.10191623e-01,  9.38555625e-01,  8.71940707e+03,]\n",
    "\n",
    "gaitan_accel_cov = [[ 2.80428585e+06, -5.26828095e-01,  1.58443730e+01, -1.34700888e+02,  -2.82267914e+06,],\n",
    "[-5.26828095e-01,  1.35894849e-07, -2.98847110e-06,  2.54156492e-05, 5.32615034e-01,],\n",
    "[ 1.58443730e+01, -2.98847110e-06,  9.24179736e-05, -7.61146797e-04,  -1.59505611e+01,],\n",
    "[-1.34700888e+02,  2.54156492e-05, -7.61146797e-04,  6.47389186e-03,   1.35606275e+02,],\n",
    "[-2.82267914e+06 , 5.32615034e-01, -1.59505611e+01,  1.35606275e+02,   2.84143853e+06,]]\n",
    "\n",
    "\n",
    "max_accel_param = [ 1.06970455e+04,  1.61547922e-03, -1.10185838e-01,  9.38506364e-01,\n",
    "        8.71841318e+03]\n",
    "\n",
    "max_accel_cov = [[ 2.80709166e+06, -5.27011502e-01,  1.58546548e+01,\n",
    "        -1.34788370e+02, -2.82549375e+06],\n",
    "       [-5.27011502e-01,  1.35844868e-07, -2.98845316e-06,\n",
    "         2.54155047e-05,  5.32797079e-01],\n",
    "       [ 1.58546548e+01, -2.98845316e-06,  9.24439240e-05,\n",
    "        -7.61373505e-04, -1.59608555e+01],\n",
    "       [-1.34788370e+02,  2.54155047e-05, -7.61373505e-04,\n",
    "         6.47582191e-03,  1.35693864e+02],\n",
    "       [-2.82549375e+06,  5.32797079e-01, -1.59608555e+01,\n",
    "         1.35693864e+02,  2.84426191e+06]]\n",
    "\n",
    "gaitan_accel_param = np.array(gaitan_accel_param)\n",
    "\n",
    "\n",
    "max_accel_param = np.array(max_accel_param)\n",
    "gaitan_accel_yerr = np.sqrt(np.diag(gaitan_accel_cov))\n",
    "max_accel_yerr = np.sqrt(np.diag(max_accel_cov))\n"
   ]
  },
  {
   "cell_type": "code",
   "execution_count": 4,
   "id": "b6309643",
   "metadata": {},
   "outputs": [
    {
     "data": {
      "text/plain": [
       "array([-8.37545734e-01,  6.77974541e-08, -1.34960089e-06, -1.19928797e-05,\n",
       "       -8.37263892e-01])"
      ]
     },
     "execution_count": 4,
     "metadata": {},
     "output_type": "execute_result"
    }
   ],
   "source": [
    "gaitan_accel_yerr - max_accel_yerr"
   ]
  },
  {
   "cell_type": "code",
   "execution_count": 5,
   "id": "b1417532",
   "metadata": {},
   "outputs": [
    {
     "data": {
      "text/plain": [
       "array([1.67460021e+03, 3.68639185e-04, 9.61342674e-03, 8.04604988e-02,\n",
       "       1.68565671e+03])"
      ]
     },
     "execution_count": 5,
     "metadata": {},
     "output_type": "execute_result"
    }
   ],
   "source": [
    "gaitan_accel_yerr"
   ]
  },
  {
   "cell_type": "code",
   "execution_count": 6,
   "id": "c1ea3f8d",
   "metadata": {},
   "outputs": [
    {
     "data": {
      "text/plain": [
       "array([1.67543775e+03, 3.68571388e-04, 9.61477634e-03, 8.04724916e-02,\n",
       "       1.68649397e+03])"
      ]
     },
     "execution_count": 6,
     "metadata": {},
     "output_type": "execute_result"
    }
   ],
   "source": [
    "max_accel_yerr"
   ]
  },
  {
   "cell_type": "code",
   "execution_count": 7,
   "id": "3fd1fb3f",
   "metadata": {},
   "outputs": [
    {
     "data": {
      "text/plain": [
       "array([-2.05789578e-12,  2.89535973e-12, -4.12559720e-08,  9.38680582e-08,\n",
       "        1.14826055e-04])"
      ]
     },
     "execution_count": 7,
     "metadata": {},
     "output_type": "execute_result"
    }
   ],
   "source": [
    "gaitan_gyro_yerr - max_gyro_yerr"
   ]
  },
  {
   "cell_type": "code",
   "execution_count": 8,
   "id": "94b601dc",
   "metadata": {},
   "outputs": [
    {
     "data": {
      "text/plain": [
       "array([1.21483314e-04, 1.20883081e-04, 4.84778307e+00, 4.79396309e+00,\n",
       "       8.59958652e+00])"
      ]
     },
     "execution_count": 8,
     "metadata": {},
     "output_type": "execute_result"
    }
   ],
   "source": [
    "gaitan_gyro_yerr"
   ]
  },
  {
   "cell_type": "code",
   "execution_count": 9,
   "id": "807e6bb3",
   "metadata": {},
   "outputs": [
    {
     "data": {
      "text/plain": [
       "array([1.21483316e-04, 1.20883078e-04, 4.84778311e+00, 4.79396300e+00,\n",
       "       8.59947170e+00])"
      ]
     },
     "execution_count": 9,
     "metadata": {},
     "output_type": "execute_result"
    }
   ],
   "source": [
    "max_gyro_yerr"
   ]
  },
  {
   "cell_type": "code",
   "execution_count": 10,
   "id": "998b57d8",
   "metadata": {},
   "outputs": [
    {
     "data": {
      "text/plain": [
       "array([-4.37303839e-13, -1.50701140e-09, -1.62597462e-06,  1.03470313e-06,\n",
       "        1.83794689e-05])"
      ]
     },
     "execution_count": 10,
     "metadata": {},
     "output_type": "execute_result"
    }
   ],
   "source": [
    "gaitan_gyro_param - max_gyro_param"
   ]
  },
  {
   "cell_type": "code",
   "execution_count": 11,
   "id": "ef033648",
   "metadata": {},
   "outputs": [
    {
     "data": {
      "text/plain": [
       "array([ 6.87299848e-03,  5.14536772e+00,  5.83237794e+03,  7.06993405e+02,\n",
       "       -5.53416296e+00])"
      ]
     },
     "execution_count": 11,
     "metadata": {},
     "output_type": "execute_result"
    }
   ],
   "source": [
    "gaitan_gyro_param"
   ]
  },
  {
   "cell_type": "code",
   "execution_count": 12,
   "id": "6c9a1b51",
   "metadata": {},
   "outputs": [
    {
     "data": {
      "text/plain": [
       "array([ 6.87299848e-03,  5.14536772e+00,  5.83237794e+03,  7.06993404e+02,\n",
       "       -5.53418134e+00])"
      ]
     },
     "execution_count": 12,
     "metadata": {},
     "output_type": "execute_result"
    }
   ],
   "source": [
    "max_gyro_param"
   ]
  },
  {
   "cell_type": "code",
   "execution_count": 13,
   "id": "1d0885d3",
   "metadata": {},
   "outputs": [
    {
     "data": {
      "text/plain": [
       "array([-1.0209e+00,  2.9283e-07, -5.7850e-06,  4.9261e-05,  9.9389e-01])"
      ]
     },
     "execution_count": 13,
     "metadata": {},
     "output_type": "execute_result"
    }
   ],
   "source": [
    "gaitan_accel_param - max_accel_param"
   ]
  },
  {
   "cell_type": "code",
   "execution_count": 14,
   "id": "d37d1488",
   "metadata": {},
   "outputs": [
    {
     "data": {
      "text/plain": [
       "array([ 1.06970455e+04,  1.61547922e-03, -1.10185838e-01,  9.38506364e-01,\n",
       "        8.71841318e+03])"
      ]
     },
     "execution_count": 14,
     "metadata": {},
     "output_type": "execute_result"
    }
   ],
   "source": [
    "gaitan_accel_param\n",
    "max_accel_param"
   ]
  }
 ],
 "metadata": {
  "kernelspec": {
   "display_name": "Python 3",
   "language": "python",
   "name": "python3"
  },
  "language_info": {
   "codemirror_mode": {
    "name": "ipython",
    "version": 3
   },
   "file_extension": ".py",
   "mimetype": "text/x-python",
   "name": "python",
   "nbconvert_exporter": "python",
   "pygments_lexer": "ipython3",
   "version": "3.9.1"
  }
 },
 "nbformat": 4,
 "nbformat_minor": 5
}
