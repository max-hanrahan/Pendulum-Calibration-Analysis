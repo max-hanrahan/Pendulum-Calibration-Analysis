{
 "cells": [
  {
   "cell_type": "markdown",
   "id": "fd395d2c",
   "metadata": {},
   "source": [
    "# Converts bits to $\\frac{m}{s^2}$ using two text files: one with device stationary facing down and one with the device stationary facing up (along the appropriate axis)."
   ]
  },
  {
   "cell_type": "code",
   "execution_count": 86,
   "id": "993c0100",
   "metadata": {},
   "outputs": [],
   "source": [
    "import numpy as np\n",
    "import matplotlib.pyplot as plt\n",
    "from scipy.optimize import curve_fit\n",
    "plt.style.use('default')"
   ]
  },
  {
   "cell_type": "code",
   "execution_count": null,
   "id": "15b924b4",
   "metadata": {},
   "outputs": [],
   "source": [
    "path_up = input('path to file of up-facing data: ')\n",
    "path_down = input('path fo file of down-facing data: ')\n",
    "# somehow input gets rid of problems with special characters (e.g., spaces) in the path"
   ]
  },
  {
   "cell_type": "code",
   "execution_count": null,
   "id": "740d7674",
   "metadata": {},
   "outputs": [],
   "source": [
    "names = 'count, timestamp, x_accel, y_accel, z_accel, x_gyro, y_gyro, z_gyro'\n",
    "all_data_up = np.genfromtxt(path_up, names = names, skip_footer = 1)\n",
    "all_data_down = np.genfromtxt(path_down, names = names, skip_footer = 1)\n",
    "\n",
    "count = np.arange(0, 1000, 1)\n",
    "\n",
    "timestamp_up = all_data_up['timestamp']\n",
    "timestamp_down = all_data_down['timestamp']\n",
    "# we'll ignore gyroscopic acceleration for now!"
   ]
  },
  {
   "cell_type": "code",
   "execution_count": null,
   "id": "1bc3ec2f-a4c8-45c3-a3f6-47cf11121a86",
   "metadata": {},
   "outputs": [],
   "source": [
    "# these data were taken with the device stationary on a table\n",
    "# we therefore have a guess calibration factor\n",
    "g = 9.80152 # from https://www.ngs.noaa.gov/cgi-bin/grav_pdx.prl using my local coordinates and altitude\n",
    "delta_g = 0.00106 # may use this later\n",
    "\n",
    "z_up_accel_bits = all_data_up['z_accel']\n",
    "z_down_accel_bits = all_data_down['z_accel']\n",
    "\n",
    "z_sensitivity = (np.average(z_up_accel_bits) - np.average(z_down_accel_bits))/2\n",
    "z_offset = (np.average(z_down_accel_bits) + np.average(z_up_accel_bits))/2\n",
    "M_S_2_PER_BIT = g/z_sensitivity\n",
    "print(M_S_2_PER_BIT)\n",
    "\n",
    "# for linear acceleration, we can convert the bits to m/s^2\n",
    "x_accel_up = all_data_up['x_accel'] * M_S_2_PER_BIT\n",
    "y_accel_up = all_data_up['y_accel'] * M_S_2_PER_BIT\n",
    "z_accel_up = all_data_up['z_accel'] * M_S_2_PER_BIT\n",
    "\n",
    "x_accel_down = all_data_down['x_accel'] * M_S_2_PER_BIT\n",
    "y_accel_down = all_data_down['y_accel'] * M_S_2_PER_BIT\n",
    "z_accel_down = all_data_down['z_accel'] * M_S_2_PER_BIT"
   ]
  },
  {
   "cell_type": "code",
   "execution_count": null,
   "id": "2364ba98-9f6e-4065-a466-d60f0a9d3f6e",
   "metadata": {},
   "outputs": [],
   "source": [
    "print('z senisitivity: ', z_sensitivity, 'bits/g')\n",
    "print('z offset: ', z_offset, 'bits/g')"
   ]
  },
  {
   "cell_type": "code",
   "execution_count": null,
   "id": "076ba7bb",
   "metadata": {},
   "outputs": [],
   "source": [
    "# make the residual arrays for plotting\n",
    "x_a_resid_up = np.array(x_accel_up - np.average(x_accel_up))\n",
    "y_a_resid_up = np.array(y_accel_up - np.average(y_accel_up))\n",
    "z_a_resid_up = np.array(z_accel_up - np.average(z_accel_up))\n",
    "\n",
    "x_a_resid_down = np.array(x_accel_down - np.average(x_accel_down))\n",
    "y_a_resid_down = np.array(y_accel_down - np.average(y_accel_down))\n",
    "z_a_resid_down = np.array(z_accel_down - np.average(z_accel_down))"
   ]
  },
  {
   "cell_type": "code",
   "execution_count": null,
   "id": "18dc59a3",
   "metadata": {},
   "outputs": [],
   "source": [
    "# now make the plots \n",
    "fig, ax = plt.subplots(2,3, figsize = (20,10))\n",
    "ax[0,0].scatter(count, x_a_resid_up, c = 'r', s= 2)\n",
    "ax[0,1].scatter(count, y_a_resid_up, c = 'g', s= 2)\n",
    "ax[0,2].scatter(count, z_a_resid_up, c = 'b', s= 2)\n",
    "\n",
    "ax[1,0].scatter(count, x_a_resid_down, c = 'r', s= 2)\n",
    "ax[1,1].scatter(count, y_a_resid_down, c = 'g', s= 2)\n",
    "ax[1,2].scatter(count, z_a_resid_down, c = 'b', s= 2)\n",
    "\n",
    "ax[0,0].set_title('X accel (readings - mean)')\n",
    "ax[0,1].set_title('Y accel (readings - mean)')\n",
    "ax[0,2].set_title('Z accel (readings - mean)')\n",
    "\n",
    "\n",
    "# put mean and 2 sigma on each plot in one for loop:\n",
    "accel_list_up = [x_accel_up, y_accel_up, z_accel_up]\n",
    "resid_list_up = [x_a_resid_up, y_a_resid_up, z_a_resid_up]\n",
    "\n",
    "accel_list_down = [x_accel_down, y_accel_down, z_accel_down]\n",
    "resid_list_down = [x_a_resid_down, y_a_resid_down, z_a_resid_down]\n",
    "\n",
    "accel_lists = [accel_list_up, accel_list_down]\n",
    "resid_lists = [resid_list_up, resid_list_down]\n",
    "for x in range(2):\n",
    "    for i in range(3):\n",
    "        textstr = '\\n'.join((\n",
    "        r'mean=%.2f' % (np.average(accel_lists[x][i])),\n",
    "        r'$2\\sigma=%.2f$' % (np.std(2* accel_lists[x][i]), )))\n",
    "        ax[x,i].text(1, np.max(resid_lists[x][i]), textstr, fontsize=14,\n",
    "        verticalalignment='top')\n",
    "for x in ax.flat:\n",
    "    x.set(xlabel='Count', ylabel='Reading ($m/s^2$)')"
   ]
  },
  {
   "cell_type": "code",
   "execution_count": null,
   "id": "5b03c921-1932-4b23-90f7-b553cc75ddd4",
   "metadata": {},
   "outputs": [],
   "source": [
    "# now plot acceleratinos with respect to time\n",
    "# from the text files I had this notebook examine, I think reasonable\n",
    "# values will be where z-up is -9.8, z-down is 9.8, and the rest are 0ish\n",
    "fig, ax = plt.subplots(2,3, figsize = (20,10))\n",
    "ax[0,0].scatter(timestamp_up, x_accel_up, c = 'r', s= 2)\n",
    "ax[0,1].scatter(timestamp_up, y_accel_up, c = 'g', s= 2)\n",
    "ax[0,2].scatter(timestamp_up, z_accel_up, c = 'b', s= 2)\n",
    "\n",
    "ax[1,0].scatter(timestamp_down, x_accel_down, c = 'r', s= 2)\n",
    "ax[1,1].scatter(timestamp_down, y_accel_down, c = 'g', s= 2)\n",
    "ax[1,2].scatter(timestamp_down, z_accel_down, c = 'b', s= 2)\n",
    "\n",
    "for x in ax.flat:\n",
    "    x.set(xlabel='Timestamp', ylabel='Acceleration ($m/s^2$)')\n",
    "    \n",
    "for x in range(2):\n",
    "    for i in range(3):\n",
    "        textstr = '\\n'.join((\n",
    "        r'mean=%.2f' % (np.average(accel_lists[x][i])),\n",
    "        r'$2\\sigma=%.2f$' % (np.std(2* accel_lists[x][i]), )))\n",
    "        ax[x,i].text(1, np.max(accel_lists[x][i]), textstr, fontsize=14,\n",
    "        verticalalignment='top')"
   ]
  },
  {
   "cell_type": "code",
   "execution_count": null,
   "id": "8d82ce4a-766e-464b-9ab4-d75979817d95",
   "metadata": {},
   "outputs": [],
   "source": []
  }
 ],
 "metadata": {
  "kernelspec": {
   "display_name": "Python 3",
   "language": "python",
   "name": "python3"
  },
  "language_info": {
   "codemirror_mode": {
    "name": "ipython",
    "version": 3
   },
   "file_extension": ".py",
   "mimetype": "text/x-python",
   "name": "python",
   "nbconvert_exporter": "python",
   "pygments_lexer": "ipython3",
   "version": "3.7.9"
  },
  "toc-autonumbering": true,
  "toc-showmarkdowntxt": true
 },
 "nbformat": 4,
 "nbformat_minor": 5
}
